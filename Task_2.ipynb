{
 "cells": [
  {
   "cell_type": "code",
   "execution_count": 1,
   "metadata": {},
   "outputs": [],
   "source": [
    "import numpy as np\n",
    "import scipy as sp\n",
    "import matplotlib.pyplot as plt\n",
    "import seaborn as sns\n",
    "\n",
    "%matplotlib inline"
   ]
  },
  {
   "cell_type": "markdown",
   "metadata": {},
   "source": [
    "# 1. Работа с массивами NumPy"
   ]
  },
  {
   "cell_type": "markdown",
   "metadata": {},
   "source": [
    "**N. Все упражнения ниже нужно делать без использования циклов Python**\n",
    "\n",
    "**1.** Cоздать вектор\n",
    "\n",
    "$$(2, \\frac{2^2}{2}, \\ldots, \\frac{2^{20}}{20})$$\n",
    "\n",
    "Можно использовать функции [np.arange()](http://docs.scipy.org/doc/numpy/reference/generated/numpy.arange.html), [np.ones()](http://docs.scipy.org/doc/numpy/reference/generated/numpy.ones.html)"
   ]
  },
  {
   "cell_type": "code",
   "execution_count": 2,
   "metadata": {},
   "outputs": [],
   "source": [
    "def f(i):\n",
    "    return (2 ** (i + 1)) / (i + 1)"
   ]
  },
  {
   "cell_type": "code",
   "execution_count": 3,
   "metadata": {},
   "outputs": [
    {
     "data": {
      "text/plain": [
       "array([2.00000000e+00, 2.00000000e+00, 2.66666667e+00, 4.00000000e+00,\n",
       "       6.40000000e+00, 1.06666667e+01, 1.82857143e+01, 3.20000000e+01,\n",
       "       5.68888889e+01, 1.02400000e+02, 1.86181818e+02, 3.41333333e+02,\n",
       "       6.30153846e+02, 1.17028571e+03, 2.18453333e+03, 4.09600000e+03,\n",
       "       7.71011765e+03, 1.45635556e+04, 2.75941053e+04, 5.24288000e+04])"
      ]
     },
     "execution_count": 3,
     "metadata": {},
     "output_type": "execute_result"
    }
   ],
   "source": [
    "np.fromfunction(f, (20,))"
   ]
  },
  {
   "cell_type": "markdown",
   "metadata": {},
   "source": [
    "**2.** Посчитать:\n",
    "\n",
    "$$\\sum\\limits_{i=0}^{5}{0.1^{3i}0.2^{4i}}$$\n"
   ]
  },
  {
   "cell_type": "code",
   "execution_count": 4,
   "metadata": {},
   "outputs": [],
   "source": [
    "def sum(i):\n",
    "    return 0.1 ** (3 * i) * 0.2 ** (4 * i)"
   ]
  },
  {
   "cell_type": "code",
   "execution_count": 5,
   "metadata": {},
   "outputs": [
    {
     "data": {
      "text/plain": [
       "1.00000160000256"
      ]
     },
     "execution_count": 5,
     "metadata": {},
     "output_type": "execute_result"
    }
   ],
   "source": [
    "np.fromfunction(sum, (6,)).sum()"
   ]
  },
  {
   "cell_type": "markdown",
   "metadata": {},
   "source": [
    "**3.** Создать нулевую матрицe $8 \\times 8$, и заполнить её единицами в шахматном порядке."
   ]
  },
  {
   "cell_type": "code",
   "execution_count": 6,
   "metadata": {},
   "outputs": [
    {
     "name": "stdout",
     "output_type": "stream",
     "text": [
      "[[0 1 0 1 0 1 0 1]\n",
      " [1 0 1 0 1 0 1 0]\n",
      " [0 1 0 1 0 1 0 1]\n",
      " [1 0 1 0 1 0 1 0]\n",
      " [0 1 0 1 0 1 0 1]\n",
      " [1 0 1 0 1 0 1 0]\n",
      " [0 1 0 1 0 1 0 1]\n",
      " [1 0 1 0 1 0 1 0]]\n"
     ]
    }
   ],
   "source": [
    "a = np.tile(np.array([[0,1],[1,0]]), (4,4))\n",
    "print(a)"
   ]
  },
  {
   "cell_type": "markdown",
   "metadata": {},
   "source": [
    "**4.** Есть 5 точек в декартовой системе координат (в виде матрицы $X$ размерностью $5 \\times 2$), сконвертируйте эти точки в полярную систему координат."
   ]
  },
  {
   "cell_type": "code",
   "execution_count": 7,
   "metadata": {},
   "outputs": [
    {
     "name": "stdout",
     "output_type": "stream",
     "text": [
      "[0.96843909 0.86096954 1.11444926 1.28923401 1.06732775]\n",
      "[0.91975714 1.4530704  0.90281427 0.69624044 0.59603607]\n"
     ]
    }
   ],
   "source": [
    "X = np.random.random((5, 2))\n",
    "\n",
    "x, y = X[:,0], X[:,1]\n",
    "ro = np.hypot(x, y)\n",
    "fi = np.arctan2(y, x)\n",
    "print(ro)\n",
    "print(fi)"
   ]
  },
  {
   "cell_type": "markdown",
   "metadata": {},
   "source": [
    "**5.** Найдите индексы максимального элемента в случайной матрице $10 \\times 10$.\n",
    "\n",
    "Cм. [np.argmax()](http://docs.scipy.org/doc/numpy/reference/generated/numpy.argmax.html)."
   ]
  },
  {
   "cell_type": "code",
   "execution_count": 8,
   "metadata": {},
   "outputs": [
    {
     "name": "stdout",
     "output_type": "stream",
     "text": [
      "(7, 3)\n"
     ]
    }
   ],
   "source": [
    "X = np.random.random((10, 10))\n",
    "\n",
    "print((np.argmax(X) // 10, np.argmax(X) % 10))\n",
    "#выделить строчку и столбец"
   ]
  },
  {
   "cell_type": "markdown",
   "metadata": {},
   "source": [
    "**6.** Есть 10 точек ($X$) и ещё одна ($y$). Найти в $X$ ближайшую к $y$ точку."
   ]
  },
  {
   "cell_type": "code",
   "execution_count": 9,
   "metadata": {},
   "outputs": [
    {
     "data": {
      "text/plain": [
       "6"
      ]
     },
     "execution_count": 9,
     "metadata": {},
     "output_type": "execute_result"
    }
   ],
   "source": [
    "X = np.random.random((10, 2))\n",
    "y = np.random.random((1, 2))\n",
    "\n",
    "q = np.subtract.outer(X[:,0], y[:,0])\n",
    "w = np.subtract.outer(X[:,1], y[:,1])\n",
    "np.argmin(np.hypot(q, w))"
   ]
  },
  {
   "cell_type": "markdown",
   "metadata": {},
   "source": [
    "**7.** Дана функция:\n",
    "\n",
    "$$\n",
    " \\begin{cases}\n",
    "    x^2 + 2x + 6, & x < 0  \\\\\n",
    "    x + 6, & 0 \\le x \\le 2 \\\\\n",
    "    x^2 + 4x - 4, & x \\ge 2\n",
    " \\end{cases}\n",
    "$$\n",
    "\n",
    "Постройте массив из её значений на  $-3 \\le x \\le 3$."
   ]
  },
  {
   "cell_type": "code",
   "execution_count": 10,
   "metadata": {},
   "outputs": [],
   "source": [
    "def f(i):\n",
    "    if i < 0:\n",
    "        return i ** 2 + 2 * i + 6\n",
    "    elif i > 2 and i >= 0:\n",
    "        return i ** 2 + 4 * i - 4\n",
    "    else:\n",
    "        return i + 6"
   ]
  },
  {
   "cell_type": "code",
   "execution_count": 11,
   "metadata": {},
   "outputs": [],
   "source": [
    "otr = np.arange(-3, 4)"
   ]
  },
  {
   "cell_type": "code",
   "execution_count": 12,
   "metadata": {},
   "outputs": [
    {
     "data": {
      "text/plain": [
       "array([ 9,  6,  5,  6,  7,  8, 17])"
      ]
     },
     "execution_count": 12,
     "metadata": {},
     "output_type": "execute_result"
    }
   ],
   "source": [
    "np.array(list(map(f, otr)))"
   ]
  },
  {
   "cell_type": "markdown",
   "metadata": {},
   "source": [
    "**8.** Из каждого элемента матрицы вычесть среднее арифметическое от всех элементов в соответствующей строке (после чего среднее значение каждой строки должно равняться нулю).\n",
    "\n",
    "Cм. [np.mean()](http://docs.scipy.org/doc/numpy/reference/generated/numpy.mean.html)."
   ]
  },
  {
   "cell_type": "code",
   "execution_count": 13,
   "metadata": {},
   "outputs": [
    {
     "data": {
      "text/plain": [
       "array([[0.40446696, 0.87170758, 0.37529253, 0.29938438, 0.99595508,\n",
       "        0.20018038, 0.10169523, 0.62957051, 0.97126364, 0.45780559],\n",
       "       [0.55517958, 0.02724333, 0.06420196, 0.10389902, 0.00840012,\n",
       "        0.83934484, 0.42412573, 0.97334132, 0.08535147, 0.88644183],\n",
       "       [0.70289508, 0.70147349, 0.31923856, 0.35061384, 0.51277269,\n",
       "        0.51647911, 0.96723846, 0.39041575, 0.42870703, 0.86346171],\n",
       "       [0.3896933 , 0.00191066, 0.7165535 , 0.76182222, 0.11746222,\n",
       "        0.2512287 , 0.24189488, 0.26479837, 0.12956834, 0.55477175],\n",
       "       [0.36317061, 0.85558958, 0.15374707, 0.62470823, 0.96464878,\n",
       "        0.91713368, 0.41509785, 0.05331122, 0.5354841 , 0.15918947],\n",
       "       [0.53128966, 0.79449059, 0.56989716, 0.68783959, 0.87275622,\n",
       "        0.38278219, 0.2560584 , 0.70389473, 0.20253512, 0.02741963],\n",
       "       [0.46776509, 0.36933252, 0.39777137, 0.39039397, 0.08613429,\n",
       "        0.20926605, 0.24798114, 0.27034975, 0.27988546, 0.60415848],\n",
       "       [0.356134  , 0.10411638, 0.05375202, 0.41167007, 0.97107155,\n",
       "        0.07208053, 0.59557431, 0.11247652, 0.45937464, 0.05342361],\n",
       "       [0.75751351, 0.9339177 , 0.5634083 , 0.5674145 , 0.70280819,\n",
       "        0.26642516, 0.82032496, 0.34339152, 0.57289061, 0.32417755],\n",
       "       [0.72540353, 0.0649073 , 0.83032171, 0.05863595, 0.86141935,\n",
       "        0.53235998, 0.71522208, 0.76525831, 0.97548924, 0.5206723 ]])"
      ]
     },
     "execution_count": 13,
     "metadata": {},
     "output_type": "execute_result"
    }
   ],
   "source": [
    "X = np.random.random((10, 10))\n",
    "X"
   ]
  },
  {
   "cell_type": "code",
   "execution_count": 14,
   "metadata": {},
   "outputs": [
    {
     "data": {
      "text/plain": [
       "array([[-0.12626523,  0.3409754 , -0.15543965, -0.23134781,  0.46522289,\n",
       "        -0.33055181, -0.42903696,  0.09883832,  0.44053146, -0.0729266 ],\n",
       "       [ 0.15842666, -0.36950959, -0.33255096, -0.2928539 , -0.3883528 ,\n",
       "         0.44259192,  0.02737281,  0.5765884 , -0.31140145,  0.48968891],\n",
       "       [ 0.12756551,  0.12614392, -0.25609101, -0.22471573, -0.06255688,\n",
       "        -0.05885046,  0.39190889, -0.18491382, -0.14662254,  0.28813213],\n",
       "       [ 0.04672291, -0.34105974,  0.3735831 ,  0.41885182, -0.22550817,\n",
       "        -0.09174169, -0.10107551, -0.07817203, -0.21340206,  0.21180136],\n",
       "       [-0.14103745,  0.35138152, -0.35046099,  0.12050017,  0.46044072,\n",
       "         0.41292562, -0.08911021, -0.45089684,  0.03127604, -0.34501859],\n",
       "       [ 0.02839333,  0.29159426,  0.06700083,  0.18494326,  0.36985989,\n",
       "        -0.12011414, -0.24683793,  0.2009984 , -0.30036121, -0.4754767 ],\n",
       "       [ 0.13546128,  0.03702871,  0.06546756,  0.05809016, -0.24616952,\n",
       "        -0.12303776, -0.08432267, -0.06195406, -0.05241835,  0.27185467],\n",
       "       [ 0.03716664, -0.21485098, -0.26521534,  0.09270271,  0.65210419,\n",
       "        -0.24688684,  0.27660695, -0.20649085,  0.14040728, -0.26554375],\n",
       "       [ 0.17228631,  0.3486905 , -0.0218189 , -0.0178127 ,  0.11758099,\n",
       "        -0.31880204,  0.23509776, -0.24183568, -0.01233659, -0.26104965],\n",
       "       [ 0.12043456, -0.54006168,  0.22535273, -0.54633302,  0.25645037,\n",
       "        -0.07260899,  0.1102531 ,  0.16028933,  0.37052027, -0.08429667]])"
      ]
     },
     "execution_count": 14,
     "metadata": {},
     "output_type": "execute_result"
    }
   ],
   "source": [
    "X - np.mean(X, axis=1).reshape(10, 1)"
   ]
  },
  {
   "cell_type": "markdown",
   "metadata": {},
   "source": [
    "**9.** Есть массив из 1000 чисел, полученных из генератора случайных чисел, имеющий нормальное распределение. Посчитайте выборочное среднее и выборочную дисперсию. "
   ]
  },
  {
   "cell_type": "code",
   "execution_count": 15,
   "metadata": {},
   "outputs": [],
   "source": [
    "X = np.random.normal(loc=5, scale=2., size=1000)"
   ]
  },
  {
   "cell_type": "code",
   "execution_count": 16,
   "metadata": {},
   "outputs": [
    {
     "data": {
      "text/plain": [
       "(5.059592434282345, 4.0407838871157615)"
      ]
     },
     "execution_count": 16,
     "metadata": {},
     "output_type": "execute_result"
    }
   ],
   "source": [
    "np.mean(X), np.var(X)"
   ]
  },
  {
   "cell_type": "markdown",
   "metadata": {},
   "source": [
    "**10.** Создать матрицу:\n",
    "\n",
    "$$\n",
    "\\begin{pmatrix}\n",
    "0 & 1 & 2 & 3 & 4 \\\\\n",
    "1 & 2 & 3 & 4 & 0 \\\\\n",
    "2 & 3 & 4 & 0 & 1 \\\\\n",
    "3 & 4 & 0 & 1 & 2 \\\\\n",
    "4 & 0 & 1 & 2 & 3\n",
    "\\end{pmatrix}\n",
    "$$"
   ]
  },
  {
   "cell_type": "code",
   "execution_count": 17,
   "metadata": {},
   "outputs": [
    {
     "data": {
      "text/plain": [
       "array([[0., 1., 2., 3., 4.],\n",
       "       [0., 1., 2., 3., 4.],\n",
       "       [0., 1., 2., 3., 4.],\n",
       "       [0., 1., 2., 3., 4.],\n",
       "       [0., 1., 2., 3., 4.]])"
      ]
     },
     "execution_count": 17,
     "metadata": {},
     "output_type": "execute_result"
    }
   ],
   "source": [
    "#сначала прибавлю ко всей матрице вектор-строчку[0..4], потом вектор-столбец[0..4] и все по модулю 5\n",
    "a = np.zeros((5,5))\n",
    "a += np.arange(5)\n",
    "a"
   ]
  },
  {
   "cell_type": "code",
   "execution_count": 18,
   "metadata": {},
   "outputs": [
    {
     "data": {
      "text/plain": [
       "array([[0., 1., 2., 3., 4.],\n",
       "       [1., 2., 3., 4., 0.],\n",
       "       [2., 3., 4., 0., 1.],\n",
       "       [3., 4., 0., 1., 2.],\n",
       "       [4., 0., 1., 2., 3.]])"
      ]
     },
     "execution_count": 18,
     "metadata": {},
     "output_type": "execute_result"
    }
   ],
   "source": [
    "a += np.arange(5).reshape((5, 1))\n",
    "a = a % 5\n",
    "a"
   ]
  }
 ],
 "metadata": {
  "kernelspec": {
   "display_name": "Python 3",
   "language": "python",
   "name": "python3"
  },
  "language_info": {
   "codemirror_mode": {
    "name": "ipython",
    "version": 3
   },
   "file_extension": ".py",
   "mimetype": "text/x-python",
   "name": "python",
   "nbconvert_exporter": "python",
   "pygments_lexer": "ipython3",
   "version": "3.7.4"
  }
 },
 "nbformat": 4,
 "nbformat_minor": 2
}
